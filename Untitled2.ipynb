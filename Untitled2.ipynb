{
 "cells": [
  {
   "cell_type": "code",
   "execution_count": 1,
   "id": "1e8de008",
   "metadata": {},
   "outputs": [],
   "source": [
    "import kubeflow.katib as kc\n",
    "kclient = kc.KatibClient()"
   ]
  },
  {
   "cell_type": "code",
   "execution_count": 2,
   "id": "53e4800e",
   "metadata": {},
   "outputs": [
    {
     "data": {
      "text/plain": "<kubeflow.katib.api.katib_client.KatibClient at 0x7fa1a07684f0>"
     },
     "execution_count": 2,
     "metadata": {},
     "output_type": "execute_result"
    }
   ],
   "source": [
    "kclient"
   ]
  },
  {
   "cell_type": "code",
   "execution_count": 3,
   "id": "0d042ab5",
   "metadata": {},
   "outputs": [],
   "source": [
    "from kubeflow.katib import KatibClient\n",
    "from kubernetes.client import V1ObjectMeta\n",
    "from kubeflow.katib import V1beta1Experiment\n",
    "from kubeflow.katib import V1beta1AlgorithmSpec\n",
    "from kubeflow.katib import V1beta1AlgorithmSetting\n",
    "from kubeflow.katib import V1beta1ObjectiveSpec\n",
    "from kubeflow.katib import V1beta1MetricsCollectorSpec\n",
    "from kubeflow.katib import V1beta1CollectorSpec\n",
    "from kubeflow.katib import V1beta1SourceSpec\n",
    "from kubeflow.katib import V1beta1FilterSpec\n",
    "from kubeflow.katib import V1beta1FeasibleSpace\n",
    "from kubeflow.katib import V1beta1ExperimentSpec\n",
    "from kubeflow.katib import V1beta1NasConfig\n",
    "from kubeflow.katib import V1beta1GraphConfig\n",
    "from kubeflow.katib import V1beta1Operation\n",
    "from kubeflow.katib import V1beta1ParameterSpec\n",
    "from kubeflow.katib import V1beta1TrialTemplate\n",
    "from kubeflow.katib import V1beta1TrialParameterSpec\n",
    "import copy\n"
   ]
  },
  {
   "cell_type": "code",
   "execution_count": 4,
   "id": "fbdc8d16",
   "metadata": {},
   "outputs": [],
   "source": [
    "# Experiment name and namespace.\n",
    "namespace = \"kubeflow\"\n",
    "experiment_name = \"cmaes-example\"\n",
    "\n",
    "metadata = V1ObjectMeta(\n",
    "    name=experiment_name,\n",
    "    namespace=namespace\n",
    ")\n",
    "\n",
    "\n",
    "# Algorithm specification.\n",
    "algorithm_spec=V1beta1AlgorithmSpec(\n",
    "    algorithm_name=\"darts\",\n",
    "    algorithm_settings=[\n",
    "        V1beta1AlgorithmSetting(\n",
    "            name=\"num_epochs\",\n",
    "            value=\"2\"\n",
    "        ),\n",
    "        V1beta1AlgorithmSetting(\n",
    "            name=\"stem_multiplier\",\n",
    "            value=\"1\"\n",
    "        ),\n",
    "        V1beta1AlgorithmSetting(\n",
    "            name=\"init_channels\",\n",
    "            value=\"4\"\n",
    "        ),\n",
    "        V1beta1AlgorithmSetting(\n",
    "            name=\"num_nodes\",\n",
    "            value=\"3\"\n",
    "        ),\n",
    "        \n",
    "    ]\n",
    ")\n",
    "\n",
    "# Objective specification. For DARTS Goal is omitted.\n",
    "objective_spec=V1beta1ObjectiveSpec(\n",
    "    goal = 0.50,\n",
    "    type=\"maximize\",\n",
    "    objective_metric_name=\"Validation-accuracy\",\n",
    ")\n",
    "\n",
    "# Metrics collector specification.\n",
    "# We should specify metrics format to get Genotype from training container.\n",
    "metrics_collector_spec=V1beta1MetricsCollectorSpec(\n",
    "    collector=V1beta1CollectorSpec(\n",
    "        kind=\"StdOut\"\n",
    "    ),\n",
    "    source=V1beta1SourceSpec(\n",
    "        filter=V1beta1FilterSpec(\n",
    "            metrics_format=[\n",
    "                \"([\\\\w-]+)=(Genotype.*)\"\n",
    "            ]\n",
    "        )\n",
    "    )\n",
    ")\n",
    "\n",
    "# Configuration for the Neural Network (NN).\n",
    "# This NN contains 2 number of layers and 5 various operations with different parameters.\n",
    "nas_config=V1beta1NasConfig(\n",
    "    graph_config=V1beta1GraphConfig(\n",
    "        num_layers=2\n",
    "    ),\n",
    "    operations=[\n",
    "        V1beta1Operation(\n",
    "            operation_type=\"separable_convolution\",\n",
    "            parameters=[\n",
    "                V1beta1ParameterSpec(\n",
    "                    name=\"filter_size\",\n",
    "                    parameter_type=\"categorical\",\n",
    "                    feasible_space=V1beta1FeasibleSpace(\n",
    "                        list=[\"3\"]\n",
    "                    ),\n",
    "                )\n",
    "            ]\n",
    "        ),\n",
    "        V1beta1Operation(\n",
    "            operation_type=\"dilated_convolution\",\n",
    "            parameters=[\n",
    "                V1beta1ParameterSpec(\n",
    "                    name=\"filter_size\",\n",
    "                    parameter_type=\"categorical\",\n",
    "                    feasible_space=V1beta1FeasibleSpace(\n",
    "                        list=[\"3\", \"5\"]\n",
    "                    ),\n",
    "                )\n",
    "            ]\n",
    "        ),\n",
    "        V1beta1Operation(\n",
    "            operation_type=\"avg_pooling\",\n",
    "            parameters=[\n",
    "                V1beta1ParameterSpec(\n",
    "                    name=\"filter_size\",\n",
    "                    parameter_type=\"categorical\",\n",
    "                    feasible_space=V1beta1FeasibleSpace(\n",
    "                        list=[\"3\"]\n",
    "                    ),\n",
    "                )\n",
    "            ]\n",
    "        ),\n",
    "        V1beta1Operation(\n",
    "            operation_type=\"max_pooling\",\n",
    "            parameters=[\n",
    "                V1beta1ParameterSpec(\n",
    "                    name=\"filter_size\",\n",
    "                    parameter_type=\"categorical\",\n",
    "                    feasible_space=V1beta1FeasibleSpace(\n",
    "                        list=[\"3\"]\n",
    "                    ),\n",
    "                )\n",
    "            ]\n",
    "        ),\n",
    "        V1beta1Operation(\n",
    "            operation_type=\"skip_connection\",\n",
    "        ),\n",
    "    ]\n",
    ")\n",
    "\n",
    "\n",
    "# JSON template specification for the Trial's Worker Kubernetes Job.\n",
    "trial_spec={\n",
    "    \"apiVersion\": \"batch/v1\",\n",
    "    \"kind\": \"Job\",\n",
    "    \"spec\": {\n",
    "        \"template\": {\n",
    "            \"metadata\": {\n",
    "                \"annotations\": {\n",
    "                    \"sidecar.istio.io/inject\": \"false\"\n",
    "                }\n",
    "            },\n",
    "            \"spec\": {\n",
    "                \"containers\": [\n",
    "                    {\n",
    "                        \"name\": \"training-container\",\n",
    "                        \"image\": \"docker.io/kubeflowkatib/darts-cnn-cifar10:v0.13.0\",\n",
    "                        \"command\": [\n",
    "                            'python3',\n",
    "                            'run_trial.py',\n",
    "                            '--algorithm-settings=\"${trialParameters.algorithmSettings}\"',\n",
    "                            '--search-space=\"${trialParameters.searchSpace}\"',\n",
    "                            '--num-layers=\"${trialParameters.numberLayers}\"'\n",
    "                        ],\n",
    "                        # Training container requires 1 GPU.\n",
    "                        \"resources\": {\n",
    "                            \"limits\": {\n",
    "                                \"nvidia.com/gpu\": 1\n",
    "                            }\n",
    "                        }\n",
    "                    }\n",
    "                ],\n",
    "                \"restartPolicy\": \"Never\"\n",
    "            }\n",
    "        }\n",
    "    }\n",
    "}\n",
    "\n",
    "# Template with Trial parameters and Trial spec.\n",
    "# Set retain to True to save trial resources after completion.\n",
    "trial_template=V1beta1TrialTemplate(\n",
    "    retain=True,\n",
    "    primary_container_name=\"training-container\",\n",
    "    trial_parameters=[\n",
    "        V1beta1TrialParameterSpec(\n",
    "            name=\"algorithmSettings\",\n",
    "            description=\" Algorithm settings of DARTS Experiment\",\n",
    "            reference=\"algorithm-settings\"\n",
    "        ),\n",
    "        V1beta1TrialParameterSpec(\n",
    "            name=\"searchSpace\",\n",
    "            description=\"Search Space of DARTS Experiment\",\n",
    "            reference=\"search-space\"\n",
    "        ),\n",
    "        V1beta1TrialParameterSpec(\n",
    "            name=\"numberLayers\",\n",
    "            description=\"Number of Neural Network layers\",\n",
    "            reference=\"num-layers\"\n",
    "        ),\n",
    "    ],\n",
    "    trial_spec=trial_spec\n",
    ")\n",
    "\n",
    "\n",
    "# Experiment object.\n",
    "experiment = V1beta1Experiment(\n",
    "    api_version=\"kubeflow.org/v1beta1\",\n",
    "    kind=\"Experiment\",\n",
    "    metadata=metadata,\n",
    "    spec=V1beta1ExperimentSpec(\n",
    "        max_trial_count=1,\n",
    "        parallel_trial_count=1,\n",
    "        max_failed_trial_count=1,\n",
    "        algorithm=algorithm_spec,\n",
    "        objective=objective_spec,\n",
    "        metrics_collector_spec=metrics_collector_spec,\n",
    "        nas_config=nas_config,\n",
    "        trial_template=trial_template,\n",
    "    )\n",
    ")"
   ]
  },
  {
   "cell_type": "code",
   "execution_count": 5,
   "id": "39bcf756",
   "metadata": {},
   "outputs": [
    {
     "name": "stdout",
     "output_type": "stream",
     "text": [
      "{'name': 'training-container', 'image': 'docker.io/kubeflowkatib/darts-cnn-cifar10:v0.13.0', 'command': ['python3', 'run_trial.py', '--algorithm-settings=\"${trialParameters.algorithmSettings}\"', '--search-space=\"${trialParameters.searchSpace}\"', '--num-layers=\"${trialParameters.numberLayers}\"'], 'resources': {'limits': {'nvidia.com/gpu': 1}}}\n"
     ]
    }
   ],
   "source": [
    "print(experiment.spec.trial_template.trial_spec[\"spec\"][\"template\"][\"spec\"][\"containers\"][0])\n"
   ]
  },
  {
   "cell_type": "code",
   "execution_count": 6,
   "id": "1dfc11bd",
   "metadata": {},
   "outputs": [
    {
     "data": {
      "text/plain": "{'apiVersion': 'kubeflow.org/v1beta1',\n 'kind': 'Experiment',\n 'metadata': {'creationTimestamp': '2022-09-13T11:14:21Z',\n  'generation': 1,\n  'managedFields': [{'apiVersion': 'kubeflow.org/v1beta1',\n    'fieldsType': 'FieldsV1',\n    'fieldsV1': {'f:spec': {'.': {},\n      'f:algorithm': {'.': {},\n       'f:algorithmName': {},\n       'f:algorithmSettings': {}},\n      'f:maxFailedTrialCount': {},\n      'f:maxTrialCount': {},\n      'f:metricsCollectorSpec': {'.': {},\n       'f:collector': {'.': {}, 'f:kind': {}},\n       'f:source': {'.': {}, 'f:filter': {'.': {}, 'f:metricsFormat': {}}}},\n      'f:nasConfig': {'.': {},\n       'f:graphConfig': {'.': {}, 'f:numLayers': {}},\n       'f:operations': {}},\n      'f:objective': {'.': {},\n       'f:goal': {},\n       'f:objectiveMetricName': {},\n       'f:type': {}},\n      'f:parallelTrialCount': {},\n      'f:trialTemplate': {'.': {},\n       'f:primaryContainerName': {},\n       'f:retain': {},\n       'f:trialParameters': {},\n       'f:trialSpec': {'.': {},\n        'f:apiVersion': {},\n        'f:kind': {},\n        'f:spec': {'.': {},\n         'f:template': {'.': {},\n          'f:metadata': {'.': {},\n           'f:annotations': {'.': {}, 'f:sidecar.istio.io/inject': {}}},\n          'f:spec': {'.': {}, 'f:containers': {}, 'f:restartPolicy': {}}}}}}}},\n    'manager': 'OpenAPI-Generator',\n    'operation': 'Update',\n    'time': '2022-09-13T11:14:20Z'}],\n  'name': 'cmaes-example',\n  'namespace': 'kubeflow',\n  'resourceVersion': '867883',\n  'uid': '09de0cfa-0b56-4a31-97bd-5eda0ec6d07b'},\n 'spec': {'algorithm': {'algorithmName': 'darts',\n   'algorithmSettings': [{'name': 'num_epochs', 'value': '2'},\n    {'name': 'stem_multiplier', 'value': '1'},\n    {'name': 'init_channels', 'value': '4'},\n    {'name': 'num_nodes', 'value': '3'}]},\n  'maxFailedTrialCount': 1,\n  'maxTrialCount': 1,\n  'metricsCollectorSpec': {'collector': {'kind': 'StdOut'},\n   'source': {'filter': {'metricsFormat': ['([\\\\w-]+)=(Genotype.*)']}}},\n  'nasConfig': {'graphConfig': {'numLayers': 2},\n   'operations': [{'operationType': 'separable_convolution',\n     'parameters': [{'feasibleSpace': {'list': ['3']},\n       'name': 'filter_size',\n       'parameterType': 'categorical'}]},\n    {'operationType': 'dilated_convolution',\n     'parameters': [{'feasibleSpace': {'list': ['3', '5']},\n       'name': 'filter_size',\n       'parameterType': 'categorical'}]},\n    {'operationType': 'avg_pooling',\n     'parameters': [{'feasibleSpace': {'list': ['3']},\n       'name': 'filter_size',\n       'parameterType': 'categorical'}]},\n    {'operationType': 'max_pooling',\n     'parameters': [{'feasibleSpace': {'list': ['3']},\n       'name': 'filter_size',\n       'parameterType': 'categorical'}]},\n    {'operationType': 'skip_connection'}]},\n  'objective': {'goal': 0.5,\n   'metricStrategies': [{'name': 'Validation-accuracy', 'value': 'max'}],\n   'objectiveMetricName': 'Validation-accuracy',\n   'type': 'maximize'},\n  'parallelTrialCount': 1,\n  'resumePolicy': 'LongRunning',\n  'trialTemplate': {'failureCondition': 'status.conditions.#(type==\"Failed\")#|#(status==\"True\")#',\n   'primaryContainerName': 'training-container',\n   'retain': True,\n   'successCondition': 'status.conditions.#(type==\"Complete\")#|#(status==\"True\")#',\n   'trialParameters': [{'description': ' Algorithm settings of DARTS Experiment',\n     'name': 'algorithmSettings',\n     'reference': 'algorithm-settings'},\n    {'description': 'Search Space of DARTS Experiment',\n     'name': 'searchSpace',\n     'reference': 'search-space'},\n    {'description': 'Number of Neural Network layers',\n     'name': 'numberLayers',\n     'reference': 'num-layers'}],\n   'trialSpec': {'apiVersion': 'batch/v1',\n    'kind': 'Job',\n    'spec': {'template': {'metadata': {'annotations': {'sidecar.istio.io/inject': 'false'}},\n      'spec': {'containers': [{'command': ['python3',\n          'run_trial.py',\n          '--algorithm-settings=\"${trialParameters.algorithmSettings}\"',\n          '--search-space=\"${trialParameters.searchSpace}\"',\n          '--num-layers=\"${trialParameters.numberLayers}\"'],\n         'image': 'docker.io/kubeflowkatib/darts-cnn-cifar10:v0.13.0',\n         'name': 'training-container',\n         'resources': {'limits': {'nvidia.com/gpu': 1}}}],\n       'restartPolicy': 'Never'}}}}}}}"
     },
     "execution_count": 6,
     "metadata": {},
     "output_type": "execute_result"
    }
   ],
   "source": [
    "# Create client.\n",
    "kclient = KatibClient()\n",
    "\n",
    "# Create your Experiment.\n",
    "kclient.create_experiment(experiment,namespace=namespace)"
   ]
  },
  {
   "cell_type": "code",
   "execution_count": 7,
   "id": "1ac4bedf",
   "metadata": {},
   "outputs": [
    {
     "name": "stdout",
     "output_type": "stream",
     "text": [
      "{'apiVersion': 'kubeflow.org/v1beta1', 'kind': 'Experiment', 'metadata': {'creationTimestamp': '2022-09-13T11:14:21Z', 'generation': 1, 'managedFields': [{'apiVersion': 'kubeflow.org/v1beta1', 'fieldsType': 'FieldsV1', 'fieldsV1': {'f:spec': {'.': {}, 'f:algorithm': {'.': {}, 'f:algorithmName': {}, 'f:algorithmSettings': {}}, 'f:maxFailedTrialCount': {}, 'f:maxTrialCount': {}, 'f:metricsCollectorSpec': {'.': {}, 'f:collector': {'.': {}, 'f:kind': {}}, 'f:source': {'.': {}, 'f:filter': {'.': {}, 'f:metricsFormat': {}}}}, 'f:nasConfig': {'.': {}, 'f:graphConfig': {'.': {}, 'f:numLayers': {}}, 'f:operations': {}}, 'f:objective': {'.': {}, 'f:goal': {}, 'f:objectiveMetricName': {}, 'f:type': {}}, 'f:parallelTrialCount': {}, 'f:trialTemplate': {'.': {}, 'f:primaryContainerName': {}, 'f:retain': {}, 'f:trialParameters': {}, 'f:trialSpec': {'.': {}, 'f:apiVersion': {}, 'f:kind': {}, 'f:spec': {'.': {}, 'f:template': {'.': {}, 'f:metadata': {'.': {}, 'f:annotations': {'.': {}, 'f:sidecar.istio.io/inject': {}}}, 'f:spec': {'.': {}, 'f:containers': {}, 'f:restartPolicy': {}}}}}}}}, 'manager': 'OpenAPI-Generator', 'operation': 'Update', 'time': '2022-09-13T11:14:20Z'}], 'name': 'cmaes-example', 'namespace': 'kubeflow', 'resourceVersion': '867883', 'uid': '09de0cfa-0b56-4a31-97bd-5eda0ec6d07b'}, 'spec': {'algorithm': {'algorithmName': 'darts', 'algorithmSettings': [{'name': 'num_epochs', 'value': '2'}, {'name': 'stem_multiplier', 'value': '1'}, {'name': 'init_channels', 'value': '4'}, {'name': 'num_nodes', 'value': '3'}]}, 'maxFailedTrialCount': 1, 'maxTrialCount': 1, 'metricsCollectorSpec': {'collector': {'kind': 'StdOut'}, 'source': {'filter': {'metricsFormat': ['([\\\\w-]+)=(Genotype.*)']}}}, 'nasConfig': {'graphConfig': {'numLayers': 2}, 'operations': [{'operationType': 'separable_convolution', 'parameters': [{'feasibleSpace': {'list': ['3']}, 'name': 'filter_size', 'parameterType': 'categorical'}]}, {'operationType': 'dilated_convolution', 'parameters': [{'feasibleSpace': {'list': ['3', '5']}, 'name': 'filter_size', 'parameterType': 'categorical'}]}, {'operationType': 'avg_pooling', 'parameters': [{'feasibleSpace': {'list': ['3']}, 'name': 'filter_size', 'parameterType': 'categorical'}]}, {'operationType': 'max_pooling', 'parameters': [{'feasibleSpace': {'list': ['3']}, 'name': 'filter_size', 'parameterType': 'categorical'}]}, {'operationType': 'skip_connection'}]}, 'objective': {'goal': 0.5, 'metricStrategies': [{'name': 'Validation-accuracy', 'value': 'max'}], 'objectiveMetricName': 'Validation-accuracy', 'type': 'maximize'}, 'parallelTrialCount': 1, 'resumePolicy': 'LongRunning', 'trialTemplate': {'failureCondition': 'status.conditions.#(type==\"Failed\")#|#(status==\"True\")#', 'primaryContainerName': 'training-container', 'retain': True, 'successCondition': 'status.conditions.#(type==\"Complete\")#|#(status==\"True\")#', 'trialParameters': [{'description': ' Algorithm settings of DARTS Experiment', 'name': 'algorithmSettings', 'reference': 'algorithm-settings'}, {'description': 'Search Space of DARTS Experiment', 'name': 'searchSpace', 'reference': 'search-space'}, {'description': 'Number of Neural Network layers', 'name': 'numberLayers', 'reference': 'num-layers'}], 'trialSpec': {'apiVersion': 'batch/v1', 'kind': 'Job', 'spec': {'template': {'metadata': {'annotations': {'sidecar.istio.io/inject': 'false'}}, 'spec': {'containers': [{'command': ['python3', 'run_trial.py', '--algorithm-settings=\"${trialParameters.algorithmSettings}\"', '--search-space=\"${trialParameters.searchSpace}\"', '--num-layers=\"${trialParameters.numberLayers}\"'], 'image': 'docker.io/kubeflowkatib/darts-cnn-cifar10:v0.13.0', 'name': 'training-container', 'resources': {'limits': {'nvidia.com/gpu': 1}}}], 'restartPolicy': 'Never'}}}}}}}\n",
      "-----------------\n",
      "\n"
     ]
    },
    {
     "ename": "KeyError",
     "evalue": "'status'",
     "output_type": "error",
     "traceback": [
      "\u001B[0;31m---------------------------------------------------------------------------\u001B[0m",
      "\u001B[0;31mKeyError\u001B[0m                                  Traceback (most recent call last)",
      "\u001B[0;32m/var/folders/zc/g_y3v0fd44z26gwxf6kc_bj40000gn/T/ipykernel_13335/3773176664.py\u001B[0m in \u001B[0;36m<module>\u001B[0;34m\u001B[0m\n\u001B[1;32m      4\u001B[0m \u001B[0;34m\u001B[0m\u001B[0m\n\u001B[1;32m      5\u001B[0m \u001B[0;31m# Get the latest status.\u001B[0m\u001B[0;34m\u001B[0m\u001B[0;34m\u001B[0m\u001B[0m\n\u001B[0;32m----> 6\u001B[0;31m \u001B[0mprint\u001B[0m\u001B[0;34m(\u001B[0m\u001B[0mexp\u001B[0m\u001B[0;34m[\u001B[0m\u001B[0;34m\"status\"\u001B[0m\u001B[0;34m]\u001B[0m\u001B[0;34m[\u001B[0m\u001B[0;34m\"conditions\"\u001B[0m\u001B[0;34m]\u001B[0m\u001B[0;34m[\u001B[0m\u001B[0;34m-\u001B[0m\u001B[0;36m1\u001B[0m\u001B[0;34m]\u001B[0m\u001B[0;34m)\u001B[0m\u001B[0;34m\u001B[0m\u001B[0;34m\u001B[0m\u001B[0m\n\u001B[0m",
      "\u001B[0;31mKeyError\u001B[0m: 'status'"
     ]
    }
   ],
   "source": [
    "exp = kclient.get_experiment(name=experiment_name, namespace=namespace)\n",
    "print(exp)\n",
    "print(\"-----------------\\n\")\n",
    "\n",
    "# Get the latest status.\n",
    "print(exp[\"status\"][\"conditions\"][-1])"
   ]
  },
  {
   "cell_type": "code",
   "execution_count": null,
   "id": "e1061c84",
   "metadata": {},
   "outputs": [],
   "source": [
    "kclient.get_experiment_status(name=experiment_name, namespace=namespace)\n"
   ]
  },
  {
   "cell_type": "code",
   "execution_count": null,
   "id": "aa697d97",
   "metadata": {},
   "outputs": [],
   "source": [
    "kclient.is_experiment_succeeded(name=experiment_name, namespace=namespace)\n"
   ]
  },
  {
   "cell_type": "code",
   "execution_count": null,
   "id": "b14dcb34",
   "metadata": {},
   "outputs": [],
   "source": [
    "opt_trial = kclient.get_optimal_hyperparameters(name=experiment_name, namespace=namespace)\n",
    "\n",
    "best_genotype = opt_trial[\"currentOptimalTrial\"][\"observation\"][\"metrics\"][0][\"latest\"]\n",
    "print(best_genotype)"
   ]
  },
  {
   "cell_type": "code",
   "execution_count": null,
   "id": "34c0175a",
   "metadata": {},
   "outputs": [],
   "source": []
  },
  {
   "cell_type": "code",
   "execution_count": null,
   "id": "1f4cf238",
   "metadata": {},
   "outputs": [],
   "source": []
  },
  {
   "cell_type": "code",
   "execution_count": null,
   "id": "fec21f79",
   "metadata": {},
   "outputs": [],
   "source": []
  },
  {
   "cell_type": "markdown",
   "id": "f2ef76d3",
   "metadata": {},
   "source": [
    "# Second Experiment"
   ]
  },
  {
   "cell_type": "code",
   "execution_count": null,
   "id": "3e8a16fd",
   "metadata": {},
   "outputs": [],
   "source": [
    "# Experiment name and namespace.\n",
    "namespace = \"kubeflow\"\n",
    "experiment_name = \"cmaes-example1\"\n",
    "\n",
    "metadata = V1ObjectMeta(\n",
    "    name=experiment_name,\n",
    "    namespace=namespace\n",
    ")\n",
    "\n",
    "# Algorithm specification.\n",
    "algorithm_spec=V1beta1AlgorithmSpec(\n",
    "    algorithm_name=\"cmaes\"\n",
    ")\n",
    "\n",
    "# Objective specification.\n",
    "objective_spec=V1beta1ObjectiveSpec(\n",
    "    type=\"maximize\",\n",
    "    goal= 0.99,\n",
    "    objective_metric_name=\"Validation-accuracy\",\n",
    "    additional_metric_names=[\"Train-accuracy\"]\n",
    ")\n",
    "\n",
    "# Experiment search space. In this example we tune learning rate, number of layer and optimizer.\n",
    "parameters=[\n",
    "    V1beta1ParameterSpec(\n",
    "        name=\"lr\",\n",
    "        parameter_type=\"double\",\n",
    "        feasible_space=V1beta1FeasibleSpace(\n",
    "            min=\"0.01\",\n",
    "            max=\"0.02\"\n",
    "        ),\n",
    "    ),\n",
    "    V1beta1ParameterSpec(\n",
    "        name=\"num-layers\",\n",
    "        parameter_type=\"int\",\n",
    "        feasible_space=V1beta1FeasibleSpace(\n",
    "            min=\"2\",\n",
    "            max=\"3\"\n",
    "        ),\n",
    "    ),\n",
    "    V1beta1ParameterSpec(\n",
    "        name=\"optimizer\",\n",
    "        parameter_type=\"categorical\",\n",
    "        feasible_space=V1beta1FeasibleSpace(\n",
    "            list=[\"adam\"]\n",
    "        ),\n",
    "    ),\n",
    "]\n",
    "\n",
    "\n",
    "\n",
    "# JSON template specification for the Trial's Worker Kubernetes Job.\n",
    "trial_spec={\n",
    "    \"apiVersion\": \"batch/v1\",\n",
    "    \"kind\": \"Job\",\n",
    "    \"spec\": {\n",
    "        \"template\": {\n",
    "            \"metadata\": {\n",
    "                \"annotations\": {\n",
    "                    \"sidecar.istio.io/inject\": \"false\"\n",
    "                }\n",
    "            },\n",
    "            \"spec\": {\n",
    "                \"containers\": [\n",
    "                    {\n",
    "                        \"name\": \"training-container\",\n",
    "                        \"image\": \"docker.io/kubeflowkatib/mxnet-mnist:v0.13.0\",\n",
    "                        \"command\": [\n",
    "                            \"python3\",\n",
    "                            \"/opt/mxnet-mnist/mnist.py\",\n",
    "                            \"--batch-size=64\",\n",
    "                            \"--lr=${trialParameters.learningRate}\",\n",
    "                            \"--num-layers=${trialParameters.numberLayers}\",\n",
    "                            \"--optimizer=${trialParameters.optimizer}\"\n",
    "                        ]\n",
    "                    }\n",
    "                ],\n",
    "                \"restartPolicy\": \"Never\"\n",
    "            }\n",
    "        }\n",
    "    }\n",
    "}\n",
    "\n",
    "# Configure parameters for the Trial template.\n",
    "trial_template=V1beta1TrialTemplate(\n",
    "    primary_container_name=\"training-container\",\n",
    "    trial_parameters=[\n",
    "        V1beta1TrialParameterSpec(\n",
    "            name=\"learningRate\",\n",
    "            description=\"Learning rate for the training model\",\n",
    "            reference=\"lr\"\n",
    "        ),\n",
    "        V1beta1TrialParameterSpec(\n",
    "            name=\"numberLayers\",\n",
    "            description=\"Number of training model layers\",\n",
    "            reference=\"num-layers\"\n",
    "        ),\n",
    "        V1beta1TrialParameterSpec(\n",
    "            name=\"optimizer\",\n",
    "            description=\"Training model optimizer (sdg, adam or ftrl)\",\n",
    "            reference=\"optimizer\"\n",
    "        ),\n",
    "    ],\n",
    "    trial_spec=trial_spec\n",
    ")\n",
    "\n",
    "\n",
    "# Experiment object.\n",
    "experiment = V1beta1Experiment(\n",
    "    api_version=\"kubeflow.org/v1beta1\",\n",
    "    kind=\"Experiment\",\n",
    "    metadata=metadata,\n",
    "    spec=V1beta1ExperimentSpec(\n",
    "        max_trial_count=7,\n",
    "        parallel_trial_count=3,\n",
    "        max_failed_trial_count=3,\n",
    "        algorithm=algorithm_spec,\n",
    "        objective=objective_spec,\n",
    "        parameters=parameters,\n",
    "        trial_template=trial_template,\n",
    "    )\n",
    ")"
   ]
  },
  {
   "cell_type": "code",
   "execution_count": null,
   "id": "4c833289",
   "metadata": {},
   "outputs": [],
   "source": [
    "experiment_never_resume_name = \"never-resume-cmaes\"\n",
    "experiment_from_volume_resume_name = \"from-volume-resume-cmaes\"\n",
    "\n",
    "# Create new Experiments from the previous Experiment info.\n",
    "# Define Experiment with never resume.\n",
    "experiment_never_resume = copy.deepcopy(experiment)\n",
    "experiment_never_resume.metadata.name = experiment_never_resume_name\n",
    "experiment_never_resume.spec.resume_policy = \"Never\"\n",
    "experiment_never_resume.spec.max_trial_count = 4\n",
    "\n",
    "# Define Experiment with from volume resume.\n",
    "experiment_from_volume_resume = copy.deepcopy(experiment)\n",
    "experiment_from_volume_resume.metadata.name = experiment_from_volume_resume_name\n",
    "experiment_from_volume_resume.spec.resume_policy = \"FromVolume\"\n",
    "experiment_from_volume_resume.spec.max_trial_count = 4"
   ]
  },
  {
   "cell_type": "code",
   "execution_count": null,
   "id": "f86f2997",
   "metadata": {},
   "outputs": [],
   "source": [
    "print(experiment.metadata.name)\n",
    "print(experiment.spec.algorithm.algorithm_name)\n",
    "print(\"-----------------\")\n",
    "print(experiment_never_resume.metadata.name)\n",
    "print(experiment_never_resume.spec.resume_policy)\n",
    "print(\"-----------------\")\n",
    "print(experiment_from_volume_resume.metadata.name)\n",
    "print(experiment_from_volume_resume.spec.resume_policy)"
   ]
  },
  {
   "cell_type": "code",
   "execution_count": null,
   "id": "96d2eb73",
   "metadata": {},
   "outputs": [],
   "source": [
    "# Create client.\n",
    "kclient = KatibClient()\n",
    "\n",
    "# Create your Experiment.\n",
    "kclient.create_experiment(experiment,namespace=namespace)"
   ]
  },
  {
   "cell_type": "code",
   "execution_count": null,
   "id": "81271b38",
   "metadata": {},
   "outputs": [],
   "source": [
    "\n",
    "# Create Experiment with never resume.\n",
    "kclient.create_experiment(experiment_never_resume,namespace=namespace)\n",
    "# Create Experiment with from volume resume.\n",
    "kclient.create_experiment(experiment_from_volume_resume,namespace=namespace)"
   ]
  },
  {
   "cell_type": "code",
   "execution_count": null,
   "id": "ea4b0866",
   "metadata": {},
   "outputs": [],
   "source": [
    "exp = kclient.get_experiment(name=experiment_name, namespace=namespace)\n",
    "print(exp)\n",
    "print(\"-----------------\\n\")\n",
    "\n",
    "# Get the max trial count and latest status.\n",
    "print(exp[\"spec\"][\"maxTrialCount\"])\n",
    "print(exp[\"status\"][\"conditions\"][-1])"
   ]
  },
  {
   "cell_type": "code",
   "execution_count": null,
   "id": "167dbe19",
   "metadata": {},
   "outputs": [],
   "source": [
    "# Get names from the running Experiments.\n",
    "exp_list = kclient.get_experiment(namespace=namespace)\n",
    "\n",
    "for exp in exp_list[\"items\"]:\n",
    "    print(exp[\"metadata\"][\"name\"])"
   ]
  },
  {
   "cell_type": "code",
   "execution_count": null,
   "id": "ed18a8f4",
   "metadata": {},
   "outputs": [],
   "source": [
    "kclient.get_experiment_status(name=experiment_name, namespace=namespace)"
   ]
  },
  {
   "cell_type": "code",
   "execution_count": null,
   "id": "2889c53f",
   "metadata": {},
   "outputs": [],
   "source": [
    "kclient.is_experiment_succeeded(name=experiment_name, namespace=namespace)\n"
   ]
  },
  {
   "cell_type": "code",
   "execution_count": null,
   "outputs": [],
   "source": [],
   "metadata": {
    "collapsed": false,
    "pycharm": {
     "name": "#%%\n"
    }
   }
  },
  {
   "cell_type": "code",
   "execution_count": null,
   "id": "e862b884",
   "metadata": {},
   "outputs": [],
   "source": [
    "kclient.list_trials(name=experiment_name, namespace=namespace)"
   ]
  },
  {
   "cell_type": "code",
   "execution_count": null,
   "id": "d5ecb6e9",
   "metadata": {},
   "outputs": [],
   "source": [
    "kclient.get_optimal_hyperparameters(name=experiment_name, namespace=namespace)\n"
   ]
  },
  {
   "cell_type": "code",
   "execution_count": null,
   "id": "c89c8ed9",
   "metadata": {},
   "outputs": [],
   "source": []
  },
  {
   "cell_type": "code",
   "execution_count": null,
   "id": "a04d4659",
   "metadata": {},
   "outputs": [],
   "source": [
    " "
   ]
  },
  {
   "cell_type": "code",
   "execution_count": null,
   "id": "b8a4fc49",
   "metadata": {},
   "outputs": [],
   "source": []
  },
  {
   "cell_type": "markdown",
   "source": [
    "<h1>Experiment 3</h1>"
   ],
   "metadata": {
    "collapsed": false
   }
  },
  {
   "cell_type": "code",
   "execution_count": null,
   "outputs": [],
   "source": [
    "!pip install kfp==1.8.4"
   ],
   "metadata": {
    "collapsed": false,
    "pycharm": {
     "name": "#%%\n"
    }
   }
  },
  {
   "cell_type": "code",
   "execution_count": null,
   "outputs": [],
   "source": [
    "import kfp\n",
    "import kfp.dsl as dsl\n",
    "from kfp import components\n",
    "\n",
    "from kubeflow.katib import ApiClient\n",
    "from kubeflow.katib import V1beta1ExperimentSpec\n",
    "from kubeflow.katib import V1beta1AlgorithmSpec\n",
    "from kubeflow.katib import V1beta1ObjectiveSpec\n",
    "from kubeflow.katib import V1beta1ParameterSpec\n",
    "from kubeflow.katib import V1beta1FeasibleSpace,V1beta1EarlyStoppingSetting\n",
    "from kubeflow.katib import V1beta1TrialTemplate\n",
    "from kubeflow.katib import V1beta1TrialParameterSpec"
   ],
   "metadata": {
    "collapsed": false,
    "pycharm": {
     "name": "#%%\n"
    }
   }
  },
  {
   "cell_type": "code",
   "execution_count": null,
   "outputs": [],
   "source": [
    "experiment_name = \"fashion-mnist-katib-experiment\"\n",
    "experiment_namespace = \"kubeflow\"\n",
    "\n",
    "# Trial count specification.\n",
    "max_trial_count = 6\n",
    "parallel_trial_count = 6\n",
    "max_failed_trial_count = 3\n",
    "\n",
    "\n",
    "# Objective specification.\n",
    "objective=V1beta1ObjectiveSpec(\n",
    "    type=\"maximize\",\n",
    "    goal= 0.99,\n",
    "    objective_metric_name=\"Test-accuracy\",\n",
    "    additional_metric_names=[\n",
    "        \"Train-accuracy\",\n",
    "        \"Validation-accuracy\"\n",
    "    ]\n",
    ")\n",
    "\n",
    "# Algorithm specification.\n",
    "algorithm=V1beta1AlgorithmSpec(\n",
    "    algorithm_name=\"random\",\n",
    ")\n",
    "\n",
    "\n",
    "# Early Stopping specification.\n",
    "# early_stopping=V1beta1EarlyStoppingSpec(\n",
    "#     algorithm_name=\"medianstop\",\n",
    "#     algorithm_settings=[\n",
    "#         V1beta1EarlyStoppingSetting(\n",
    "#             name=\"min_trials_required\",\n",
    "#             value=\"2\"\n",
    "#         )\n",
    "#     ]\n",
    "# )\n",
    "\n",
    "\n",
    "# Experiment search space.\n",
    "# In this example we tune learning rate, number of layer and optimizer.\n",
    "# Learning rate has bad feasible space to show more early stopped Trials.\n",
    "parameters=[\n",
    "    V1beta1ParameterSpec(\n",
    "        name=\"learningRate\",\n",
    "        parameter_type=\"double\",\n",
    "        feasible_space=V1beta1FeasibleSpace(\n",
    "            min=\"0.01\",\n",
    "            max=\"0.3\"\n",
    "        ),\n",
    "    ),\n",
    "    V1beta1ParameterSpec(\n",
    "        name=\"numberLayers\",\n",
    "        parameter_type=\"int\",\n",
    "        feasible_space=V1beta1FeasibleSpace(\n",
    "            min=\"1\",\n",
    "            max=\"5\"\n",
    "        ),\n",
    "    ),\n",
    "    V1beta1ParameterSpec(\n",
    "        name=\"optimizer\",\n",
    "        parameter_type=\"categorical\",\n",
    "        feasible_space=V1beta1FeasibleSpace(\n",
    "            list=[\n",
    "                \"sgd\",\n",
    "                \"adam\",\n",
    "                \"ftrl\"\n",
    "            ]\n",
    "        ),\n",
    "    ),\n",
    "    V1beta1ParameterSpec(\n",
    "        name=\"dropOut\",\n",
    "        parameter_type=\"double\",\n",
    "        feasible_space=V1beta1FeasibleSpace(\n",
    "            min=\"0.1\",\n",
    "            max=\"0.8\"\n",
    "        ),\n",
    "    ),\n",
    "    V1beta1ParameterSpec(\n",
    "        name=\"batchSize\",\n",
    "        parameter_type=\"int\",\n",
    "        feasible_space=V1beta1FeasibleSpace(\n",
    "            min=\"8\",\n",
    "            max=\"32\"\n",
    "        ),\n",
    "    ),\n",
    "    V1beta1ParameterSpec(\n",
    "        name=\"numDims\",\n",
    "        parameter_type=\"int\",\n",
    "        feasible_space=V1beta1FeasibleSpace(\n",
    "            min=\"1\",\n",
    "            max=\"5\"\n",
    "        ),\n",
    "    ),\n",
    "]"
   ],
   "metadata": {
    "collapsed": false,
    "pycharm": {
     "name": "#%%\n"
    }
   }
  },
  {
   "cell_type": "code",
   "execution_count": null,
   "id": "31938a57",
   "metadata": {},
   "outputs": [],
   "source": []
  }
 ],
 "metadata": {
  "kernelspec": {
   "display_name": "Python 3 (ipykernel)",
   "language": "python",
   "name": "python3"
  },
  "language_info": {
   "codemirror_mode": {
    "name": "ipython",
    "version": 3
   },
   "file_extension": ".py",
   "mimetype": "text/x-python",
   "name": "python",
   "nbconvert_exporter": "python",
   "pygments_lexer": "ipython3",
   "version": "3.9.7"
  }
 },
 "nbformat": 4,
 "nbformat_minor": 5
}