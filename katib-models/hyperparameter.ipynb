{
 "cells": [
  {
   "cell_type": "code",
   "execution_count": 5,
   "metadata": {
    "collapsed": true
   },
   "outputs": [],
   "source": [
    "import kfp\n",
    "import kfp.dsl as dsl\n",
    "from kfp import components\n",
    "\n",
    "from kubeflow.katib import ApiClient\n",
    "from kubeflow.katib import V1beta1ExperimentSpec\n",
    "from kubeflow.katib import V1beta1AlgorithmSpec\n",
    "from kubeflow.katib import V1beta1ObjectiveSpec\n",
    "from kubeflow.katib import V1beta1ParameterSpec\n",
    "from kubeflow.katib import V1beta1FeasibleSpace,V1beta1EarlyStoppingSetting\n",
    "from kubeflow.katib import V1beta1TrialTemplate\n",
    "from kubeflow.katib import V1beta1TrialParameterSpec"
   ]
  },
  {
   "cell_type": "code",
   "execution_count": 6,
   "outputs": [],
   "source": [
    "experiment_name = \"fashion-mnist-katib-experiment\"\n",
    "experiment_namespace = \"kubeflow\"\n",
    "\n",
    "# Trial count specification.\n",
    "max_trial_count = 6\n",
    "parallel_trial_count = 6\n",
    "max_failed_trial_count = 3\n",
    "\n",
    "\n",
    "# Objective specification.\n",
    "objective=V1beta1ObjectiveSpec(\n",
    "    type=\"maximize\",\n",
    "    goal= 0.99,\n",
    "    objective_metric_name=\"Test-accuracy\",\n",
    "    additional_metric_names=[\n",
    "        \"Train-accuracy\",\n",
    "        \"Validation-accuracy\"\n",
    "    ]\n",
    ")\n",
    "\n",
    "# Algorithm specification.\n",
    "algorithm=V1beta1AlgorithmSpec(\n",
    "    algorithm_name=\"random\",\n",
    ")\n",
    "\n",
    "\n",
    "# Early Stopping specification.\n",
    "# early_stopping=V1beta1EarlyStoppingSpec(\n",
    "#     algorithm_name=\"medianstop\",\n",
    "#     algorithm_settings=[\n",
    "#         V1beta1EarlyStoppingSetting(\n",
    "#             name=\"min_trials_required\",\n",
    "#             value=\"2\"\n",
    "#         )\n",
    "#     ]\n",
    "# )\n",
    "\n",
    "\n",
    "# Experiment search space.\n",
    "# In this example we tune learning rate, number of layer and optimizer.\n",
    "# Learning rate has bad feasible space to show more early stopped Trials.\n",
    "parameters=[\n",
    "    V1beta1ParameterSpec(\n",
    "        name=\"learningRate\",\n",
    "        parameter_type=\"double\",\n",
    "        feasible_space=V1beta1FeasibleSpace(\n",
    "            min=\"0.01\",\n",
    "            max=\"0.3\"\n",
    "        ),\n",
    "    ),\n",
    "    V1beta1ParameterSpec(\n",
    "        name=\"numberLayers\",\n",
    "        parameter_type=\"int\",\n",
    "        feasible_space=V1beta1FeasibleSpace(\n",
    "            min=\"1\",\n",
    "            max=\"5\"\n",
    "        ),\n",
    "    ),\n",
    "    V1beta1ParameterSpec(\n",
    "        name=\"optimizer\",\n",
    "        parameter_type=\"categorical\",\n",
    "        feasible_space=V1beta1FeasibleSpace(\n",
    "            list=[\n",
    "                \"sgd\",\n",
    "                \"adam\",\n",
    "                \"ftrl\"\n",
    "            ]\n",
    "        ),\n",
    "    ),\n",
    "    V1beta1ParameterSpec(\n",
    "        name=\"dropOut\",\n",
    "        parameter_type=\"double\",\n",
    "        feasible_space=V1beta1FeasibleSpace(\n",
    "            min=\"0.1\",\n",
    "            max=\"0.8\"\n",
    "        ),\n",
    "    ),\n",
    "    V1beta1ParameterSpec(\n",
    "        name=\"batchSize\",\n",
    "        parameter_type=\"int\",\n",
    "        feasible_space=V1beta1FeasibleSpace(\n",
    "            min=\"8\",\n",
    "            max=\"32\"\n",
    "        ),\n",
    "    ),\n",
    "    V1beta1ParameterSpec(\n",
    "        name=\"numDims\",\n",
    "        parameter_type=\"int\",\n",
    "        feasible_space=V1beta1FeasibleSpace(\n",
    "            min=\"1\",\n",
    "            max=\"5\"\n",
    "        ),\n",
    "    ),\n",
    "]"
   ],
   "metadata": {
    "collapsed": false,
    "pycharm": {
     "name": "#%%\n"
    }
   }
  },
  {
   "cell_type": "code",
   "execution_count": 7,
   "outputs": [],
   "source": [
    "# JSON template specification for the Trial's Worker Kubernetes Job.\n",
    "trial_spec={\n",
    "    \"apiVersion\": \"batch/v1\",\n",
    "    \"kind\": \"Job\",\n",
    "    \"spec\": {\n",
    "        \"template\": {\n",
    "            \"metadata\": {\n",
    "                \"annotations\": {\n",
    "                    \"sidecar.istio.io/inject\": \"false\"\n",
    "                }\n",
    "            },\n",
    "            \"spec\": {\n",
    "                \"imagePullSecrets\": [{\n",
    "                    \"name\": \"registry-credentials\"\n",
    "                }],\n",
    "                \"containers\": [\n",
    "                    {\n",
    "                        \"name\": \"training-container\",\n",
    "                        \"image\": \"katib-models\",\n",
    "                        \"command\": [\n",
    "                            \"python\",\n",
    "                            \"/opt/model.py\",\n",
    "                            \"--tf-learning-rate=${trialParameters.learningRate}\",\n",
    "                            \"--tf-num-layers=${trialParameters.numberLayers}\",\n",
    "                            \"--tf-optimizer=${trialParameters.optimizer}\",\n",
    "                            \"--tf-dropout=${trialParameters.dropOut}\",\n",
    "                            \"--tf-batch-size=${trialParameters.batchSize}\",\n",
    "                            \"--tf-num-dims=${trialParameters.numDims}\",\n",
    "                            \"--tf-epochs=32\"\n",
    "                        ]\n",
    "                    }\n",
    "                ],\n",
    "                \"restartPolicy\": \"Never\"\n",
    "            }\n",
    "        }\n",
    "    }\n",
    "}\n",
    "\n",
    "# Configure parameters for the Trial template.\n",
    "# We set the retain parameter to \"True\" to not clean-up the Trial Job's Kubernetes Pods.\n",
    "trial_template=V1beta1TrialTemplate(\n",
    "    retain=True,\n",
    "    primary_container_name=\"training-container\",\n",
    "    trial_parameters=[\n",
    "        V1beta1TrialParameterSpec(\n",
    "            name=\"learningRate\",\n",
    "            description=\"Learning rate for the training model\",\n",
    "            reference=\"learningRate\"\n",
    "        ),\n",
    "        V1beta1TrialParameterSpec(\n",
    "            name=\"numberLayers\",\n",
    "            description=\"Number of training model layers\",\n",
    "            reference=\"numberLayers\"\n",
    "        ),\n",
    "        V1beta1TrialParameterSpec(\n",
    "            name=\"optimizer\",\n",
    "            description=\"Training model optimizer (sdg, adam or ftrl)\",\n",
    "            reference=\"optimizer\"\n",
    "        ),\n",
    "        V1beta1TrialParameterSpec(\n",
    "            name=\"dropOut\",\n",
    "            description=\"drop out\",\n",
    "            reference=\"dropOut\"\n",
    "        ),\n",
    "        V1beta1TrialParameterSpec(\n",
    "            name=\"batchSize\",\n",
    "            description=\"batch size\",\n",
    "            reference=\"batchSize\"\n",
    "        ),\n",
    "        V1beta1TrialParameterSpec(\n",
    "            name=\"numDims\",\n",
    "            description=\"num dims\",\n",
    "            reference=\"numDims\"\n",
    "        )\n",
    "    ],\n",
    "    trial_spec=trial_spec\n",
    ")"
   ],
   "metadata": {
    "collapsed": false,
    "pycharm": {
     "name": "#%%\n"
    }
   }
  },
  {
   "cell_type": "code",
   "execution_count": 8,
   "outputs": [],
   "source": [
    "from kubeflow.katib import KatibClient\n",
    "from kubernetes.client import V1ObjectMeta\n",
    "from kubeflow.katib import V1beta1Experiment\n",
    "from kubeflow.katib import V1beta1AlgorithmSpec\n",
    "from kubeflow.katib import V1beta1AlgorithmSetting\n",
    "from kubeflow.katib import V1beta1ObjectiveSpec\n",
    "from kubeflow.katib import V1beta1MetricsCollectorSpec\n",
    "from kubeflow.katib import V1beta1CollectorSpec\n",
    "from kubeflow.katib import V1beta1SourceSpec\n",
    "from kubeflow.katib import V1beta1FilterSpec\n",
    "from kubeflow.katib import V1beta1FeasibleSpace\n",
    "from kubeflow.katib import V1beta1ExperimentSpec\n",
    "from kubeflow.katib import V1beta1NasConfig\n",
    "from kubeflow.katib import V1beta1GraphConfig\n",
    "from kubeflow.katib import V1beta1Operation\n",
    "from kubeflow.katib import V1beta1ParameterSpec\n",
    "from kubeflow.katib import V1beta1TrialTemplate\n",
    "from kubeflow.katib import V1beta1TrialParameterSpec\n",
    "import copy\n"
   ],
   "metadata": {
    "collapsed": false,
    "pycharm": {
     "name": "#%%\n"
    }
   }
  },
  {
   "cell_type": "code",
   "execution_count": 15,
   "outputs": [],
   "source": [
    "# experiment_spec=V1beta1ExperimentSpec(\n",
    "#     max_trial_count=max_trial_count,\n",
    "#     max_failed_trial_count=max_failed_trial_count,\n",
    "#     parallel_trial_count=parallel_trial_count,\n",
    "#     objective=objective,\n",
    "#     algorithm=algorithm,\n",
    "#     parameters=parameters,\n",
    "#     trial_template=trial_template\n",
    "# )\n",
    "\n",
    "metadata = V1ObjectMeta(\n",
    "    name=\"testing\",\n",
    "    namespace=\"kubeflow\"\n",
    ")\n",
    "\n",
    "experiment = V1beta1Experiment(\n",
    "    api_version=\"kubeflow.org/v1beta1\",\n",
    "    kind=\"Experiment\",\n",
    "    metadata = metadata,\n",
    "    spec=V1beta1ExperimentSpec(\n",
    "        max_trial_count=1,\n",
    "        parallel_trial_count=1,\n",
    "        max_failed_trial_count=1,\n",
    "        algorithm=algorithm,\n",
    "        objective=objective,\n",
    "        trial_template=trial_template,\n",
    "        parameters=parameters\n",
    "    )\n",
    ")"
   ],
   "metadata": {
    "collapsed": false,
    "pycharm": {
     "name": "#%%\n"
    }
   }
  },
  {
   "cell_type": "code",
   "execution_count": 12,
   "outputs": [],
   "source": [],
   "metadata": {
    "collapsed": false,
    "pycharm": {
     "name": "#%%\n"
    }
   }
  },
  {
   "cell_type": "code",
   "execution_count": 17,
   "outputs": [
    {
     "name": "stdout",
     "output_type": "stream",
     "text": [
      "{'config_map': None,\n",
      " 'failure_condition': None,\n",
      " 'primary_container_name': 'training-container',\n",
      " 'primary_pod_labels': None,\n",
      " 'retain': True,\n",
      " 'success_condition': None,\n",
      " 'trial_parameters': [{'description': 'Learning rate for the training model',\n",
      "                       'name': 'learningRate',\n",
      "                       'reference': 'learningRate'},\n",
      "                      {'description': 'Number of training model layers',\n",
      "                       'name': 'numberLayers',\n",
      "                       'reference': 'numberLayers'},\n",
      "                      {'description': 'Training model optimizer (sdg, adam or '\n",
      "                                      'ftrl)',\n",
      "                       'name': 'optimizer',\n",
      "                       'reference': 'optimizer'},\n",
      "                      {'description': 'drop out',\n",
      "                       'name': 'dropOut',\n",
      "                       'reference': 'dropOut'},\n",
      "                      {'description': 'batch size',\n",
      "                       'name': 'batchSize',\n",
      "                       'reference': 'batchSize'},\n",
      "                      {'description': 'num dims',\n",
      "                       'name': 'numDims',\n",
      "                       'reference': 'numDims'}],\n",
      " 'trial_spec': {'apiVersion': 'batch/v1',\n",
      "                'kind': 'Job',\n",
      "                'spec': {'template': {'metadata': {'annotations': {'sidecar.istio.io/inject': 'false'}},\n",
      "                                      'spec': {'containers': [{'command': ['python',\n",
      "                                                                           '/opt/model.py',\n",
      "                                                                           '--tf-learning-rate=${trialParameters.learningRate}',\n",
      "                                                                           '--tf-num-layers=${trialParameters.numberLayers}',\n",
      "                                                                           '--tf-optimizer=${trialParameters.optimizer}',\n",
      "                                                                           '--tf-dropout=${trialParameters.dropOut}',\n",
      "                                                                           '--tf-batch-size=${trialParameters.batchSize}',\n",
      "                                                                           '--tf-num-dims=${trialParameters.numDims}',\n",
      "                                                                           '--tf-epochs=32'],\n",
      "                                                               'image': 'katib-models',\n",
      "                                                               'name': 'training-container'}],\n",
      "                                               'imagePullSecrets': [{'name': 'registry-credentials'}],\n",
      "                                               'restartPolicy': 'Never'}}}}}\n"
     ]
    }
   ],
   "source": [
    "print(experiment.trial_template)\n"
   ],
   "metadata": {
    "collapsed": false,
    "pycharm": {
     "name": "#%%\n"
    }
   }
  },
  {
   "cell_type": "code",
   "execution_count": 16,
   "outputs": [
    {
     "data": {
      "text/plain": "{'apiVersion': 'kubeflow.org/v1beta1',\n 'kind': 'Experiment',\n 'metadata': {'creationTimestamp': '2022-09-13T11:20:59Z',\n  'generation': 1,\n  'managedFields': [{'apiVersion': 'kubeflow.org/v1beta1',\n    'fieldsType': 'FieldsV1',\n    'fieldsV1': {'f:spec': {'.': {},\n      'f:algorithm': {'.': {}, 'f:algorithmName': {}},\n      'f:maxFailedTrialCount': {},\n      'f:maxTrialCount': {},\n      'f:objective': {'.': {},\n       'f:additionalMetricNames': {},\n       'f:goal': {},\n       'f:objectiveMetricName': {},\n       'f:type': {}},\n      'f:parallelTrialCount': {},\n      'f:parameters': {},\n      'f:trialTemplate': {'.': {},\n       'f:primaryContainerName': {},\n       'f:retain': {},\n       'f:trialParameters': {},\n       'f:trialSpec': {'.': {},\n        'f:apiVersion': {},\n        'f:kind': {},\n        'f:spec': {'.': {},\n         'f:template': {'.': {},\n          'f:metadata': {'.': {},\n           'f:annotations': {'.': {}, 'f:sidecar.istio.io/inject': {}}},\n          'f:spec': {'.': {},\n           'f:containers': {},\n           'f:imagePullSecrets': {},\n           'f:restartPolicy': {}}}}}}}},\n    'manager': 'OpenAPI-Generator',\n    'operation': 'Update',\n    'time': '2022-09-13T11:20:59Z'}],\n  'name': 'testing',\n  'namespace': 'kubeflow',\n  'resourceVersion': '868497',\n  'uid': '97c50f0a-6623-47de-be40-88e2bb782c84'},\n 'spec': {'algorithm': {'algorithmName': 'random'},\n  'maxFailedTrialCount': 1,\n  'maxTrialCount': 1,\n  'metricsCollectorSpec': {'collector': {'kind': 'StdOut'}},\n  'objective': {'additionalMetricNames': ['Train-accuracy',\n    'Validation-accuracy'],\n   'goal': 0.99,\n   'metricStrategies': [{'name': 'Test-accuracy', 'value': 'max'},\n    {'name': 'Train-accuracy', 'value': 'max'},\n    {'name': 'Validation-accuracy', 'value': 'max'}],\n   'objectiveMetricName': 'Test-accuracy',\n   'type': 'maximize'},\n  'parallelTrialCount': 1,\n  'parameters': [{'feasibleSpace': {'max': '0.3', 'min': '0.01'},\n    'name': 'learningRate',\n    'parameterType': 'double'},\n   {'feasibleSpace': {'max': '5', 'min': '1'},\n    'name': 'numberLayers',\n    'parameterType': 'int'},\n   {'feasibleSpace': {'list': ['sgd', 'adam', 'ftrl']},\n    'name': 'optimizer',\n    'parameterType': 'categorical'},\n   {'feasibleSpace': {'max': '0.8', 'min': '0.1'},\n    'name': 'dropOut',\n    'parameterType': 'double'},\n   {'feasibleSpace': {'max': '32', 'min': '8'},\n    'name': 'batchSize',\n    'parameterType': 'int'},\n   {'feasibleSpace': {'max': '5', 'min': '1'},\n    'name': 'numDims',\n    'parameterType': 'int'}],\n  'resumePolicy': 'LongRunning',\n  'trialTemplate': {'failureCondition': 'status.conditions.#(type==\"Failed\")#|#(status==\"True\")#',\n   'primaryContainerName': 'training-container',\n   'retain': True,\n   'successCondition': 'status.conditions.#(type==\"Complete\")#|#(status==\"True\")#',\n   'trialParameters': [{'description': 'Learning rate for the training model',\n     'name': 'learningRate',\n     'reference': 'learningRate'},\n    {'description': 'Number of training model layers',\n     'name': 'numberLayers',\n     'reference': 'numberLayers'},\n    {'description': 'Training model optimizer (sdg, adam or ftrl)',\n     'name': 'optimizer',\n     'reference': 'optimizer'},\n    {'description': 'drop out', 'name': 'dropOut', 'reference': 'dropOut'},\n    {'description': 'batch size',\n     'name': 'batchSize',\n     'reference': 'batchSize'},\n    {'description': 'num dims', 'name': 'numDims', 'reference': 'numDims'}],\n   'trialSpec': {'apiVersion': 'batch/v1',\n    'kind': 'Job',\n    'spec': {'template': {'metadata': {'annotations': {'sidecar.istio.io/inject': 'false'}},\n      'spec': {'containers': [{'command': ['python',\n          '/opt/model.py',\n          '--tf-learning-rate=${trialParameters.learningRate}',\n          '--tf-num-layers=${trialParameters.numberLayers}',\n          '--tf-optimizer=${trialParameters.optimizer}',\n          '--tf-dropout=${trialParameters.dropOut}',\n          '--tf-batch-size=${trialParameters.batchSize}',\n          '--tf-num-dims=${trialParameters.numDims}',\n          '--tf-epochs=32'],\n         'image': 'katib-models',\n         'name': 'training-container'}],\n       'imagePullSecrets': [{'name': 'registry-credentials'}],\n       'restartPolicy': 'Never'}}}}}}}"
     },
     "execution_count": 16,
     "metadata": {},
     "output_type": "execute_result"
    }
   ],
   "source": [
    "# Create client.\n",
    "from kubeflow.katib import KatibClient\n",
    "kclient = KatibClient()\n",
    "\n",
    "# Create your Experiment.\n",
    "kclient.create_experiment(experiment,namespace=\"kubeflow\")"
   ],
   "metadata": {
    "collapsed": false,
    "pycharm": {
     "name": "#%%\n"
    }
   }
  }
 ],
 "metadata": {
  "kernelspec": {
   "display_name": "Python 3",
   "language": "python",
   "name": "python3"
  },
  "language_info": {
   "codemirror_mode": {
    "name": "ipython",
    "version": 2
   },
   "file_extension": ".py",
   "mimetype": "text/x-python",
   "name": "python",
   "nbconvert_exporter": "python",
   "pygments_lexer": "ipython2",
   "version": "2.7.6"
  }
 },
 "nbformat": 4,
 "nbformat_minor": 0
}